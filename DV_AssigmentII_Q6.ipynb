{
  "nbformat": 4,
  "nbformat_minor": 0,
  "metadata": {
    "colab": {
      "provenance": []
    },
    "kernelspec": {
      "name": "python3",
      "display_name": "Python 3"
    },
    "language_info": {
      "name": "python"
    }
  },
  "cells": [
    {
      "cell_type": "code",
      "execution_count": 1,
      "metadata": {
        "colab": {
          "base_uri": "https://localhost:8080/"
        },
        "id": "zDUTzZ5moqoE",
        "outputId": "351447de-71a0-43f0-bb84-e9e27e088a6d"
      },
      "outputs": [
        {
          "output_type": "stream",
          "name": "stdout",
          "text": [
            "Title: Python Programming, Author: John Doe, Year: 2023\n",
            "Title: Data Science, Author: Jane Doe, Year: 2021\n"
          ]
        }
      ],
      "source": [
        "import xml.etree.ElementTree as ET\n",
        "\n",
        "# Example XML\n",
        "xml_data = \"\"\"\n",
        "<books>\n",
        "    <book>\n",
        "        <title>Python Programming</title>\n",
        "        <author>John Doe</author>\n",
        "        <year>2023</year>\n",
        "    </book>\n",
        "    <book>\n",
        "        <title>Data Science</title>\n",
        "        <author>Jane Doe</author>\n",
        "        <year>2021</year>\n",
        "    </book>\n",
        "</books>\n",
        "\"\"\"\n",
        "\n",
        "# Parse the XML\n",
        "root = ET.fromstring(xml_data)\n",
        "\n",
        "# Extract and print book details\n",
        "for book in root.findall('book'):\n",
        "    title = book.find('title').text\n",
        "    author = book.find('author').text\n",
        "    year = book.find('year').text\n",
        "    print(f\"Title: {title}, Author: {author}, Year: {year}\")\n"
      ]
    }
  ]
}