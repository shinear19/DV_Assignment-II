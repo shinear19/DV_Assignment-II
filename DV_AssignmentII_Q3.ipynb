{
  "nbformat": 4,
  "nbformat_minor": 0,
  "metadata": {
    "colab": {
      "provenance": []
    },
    "kernelspec": {
      "name": "python3",
      "display_name": "Python 3"
    },
    "language_info": {
      "name": "python"
    }
  },
  "cells": [
    {
      "cell_type": "code",
      "execution_count": 5,
      "metadata": {
        "colab": {
          "base_uri": "https://localhost:8080/",
          "height": 17
        },
        "id": "_Ze57drulXmx",
        "outputId": "2ff32771-ee4c-4d1d-cab9-b983f0f59c34"
      },
      "outputs": [
        {
          "output_type": "display_data",
          "data": {
            "text/plain": [
              "<IPython.core.display.Javascript object>"
            ],
            "application/javascript": [
              "\n",
              "    async function download(id, filename, size) {\n",
              "      if (!google.colab.kernel.accessAllowed) {\n",
              "        return;\n",
              "      }\n",
              "      const div = document.createElement('div');\n",
              "      const label = document.createElement('label');\n",
              "      label.textContent = `Downloading \"${filename}\": `;\n",
              "      div.appendChild(label);\n",
              "      const progress = document.createElement('progress');\n",
              "      progress.max = size;\n",
              "      div.appendChild(progress);\n",
              "      document.body.appendChild(div);\n",
              "\n",
              "      const buffers = [];\n",
              "      let downloaded = 0;\n",
              "\n",
              "      const channel = await google.colab.kernel.comms.open(id);\n",
              "      // Send a message to notify the kernel that we're ready.\n",
              "      channel.send({})\n",
              "\n",
              "      for await (const message of channel.messages) {\n",
              "        // Send a message to notify the kernel that we're ready.\n",
              "        channel.send({})\n",
              "        if (message.buffers) {\n",
              "          for (const buffer of message.buffers) {\n",
              "            buffers.push(buffer);\n",
              "            downloaded += buffer.byteLength;\n",
              "            progress.value = downloaded;\n",
              "          }\n",
              "        }\n",
              "      }\n",
              "      const blob = new Blob(buffers, {type: 'application/binary'});\n",
              "      const a = document.createElement('a');\n",
              "      a.href = window.URL.createObjectURL(blob);\n",
              "      a.download = filename;\n",
              "      div.appendChild(a);\n",
              "      a.click();\n",
              "      div.remove();\n",
              "    }\n",
              "  "
            ]
          },
          "metadata": {}
        },
        {
          "output_type": "display_data",
          "data": {
            "text/plain": [
              "<IPython.core.display.Javascript object>"
            ],
            "application/javascript": [
              "download(\"download_c7a0b3f0-be54-4860-94a9-ce7c6fb5a5b1\", \"geospatial.html\", 6090)"
            ]
          },
          "metadata": {}
        }
      ],
      "source": [
        "from bokeh.io import output_file, save\n",
        "from bokeh.plotting import figure\n",
        "from bokeh.models import ColumnDataSource, HoverTool\n",
        "from google.colab import files\n",
        "import os\n",
        "\n",
        "# Example geospatial data (latitude and longitude)\n",
        "data = {\n",
        "    'latitude': [37.7749, 34.0522, 40.7128, 41.8781],\n",
        "    'longitude': [-122.4194, -118.2437, -74.0060, -87.6298],\n",
        "    'city': ['San Francisco', 'Los Angeles', 'New York', 'Chicago']\n",
        "}\n",
        "\n",
        "source = ColumnDataSource(data=data)\n",
        "\n",
        "# Create a figure\n",
        "p = figure(\n",
        "    title=\"Geospatial Data Visualization\",\n",
        "    x_axis_label=\"Longitude\",\n",
        "    y_axis_label=\"Latitude\",\n",
        "    tools=\"pan,wheel_zoom,reset\",\n",
        "    tooltips=[(\"City\", \"@city\"), (\"Lat, Lon\", \"@latitude, @longitude\")]\n",
        ")\n",
        "\n",
        "# Add scatter plot for geospatial points\n",
        "p.scatter(x=\"longitude\", y=\"latitude\", size=10, source=source, color=\"blue\", legend_label=\"Cities\")\n",
        "\n",
        "p.legend.location = \"top_left\"\n",
        "\n",
        "# Save the HTML file\n",
        "output_file(\"geospatial.html\")\n",
        "save(p)\n",
        "\n",
        "# Download the HTML file\n",
        "files.download(\"geospatial.html\")\n"
      ]
    }
  ]
}