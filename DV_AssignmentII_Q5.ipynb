{
  "nbformat": 4,
  "nbformat_minor": 0,
  "metadata": {
    "colab": {
      "provenance": []
    },
    "kernelspec": {
      "name": "python3",
      "display_name": "Python 3"
    },
    "language_info": {
      "name": "python"
    }
  },
  "cells": [
    {
      "cell_type": "code",
      "execution_count": 3,
      "metadata": {
        "colab": {
          "base_uri": "https://localhost:8080/"
        },
        "id": "EQWRMr95oO31",
        "outputId": "52d000e6-2cd9-495e-8a34-0e9eb0614967"
      },
      "outputs": [
        {
          "output_type": "stream",
          "name": "stdout",
          "text": [
            "Page Title: Example Domain\n"
          ]
        }
      ],
      "source": [
        "import requests\n",
        "from bs4 import BeautifulSoup\n",
        "\n",
        "# URL to scrape\n",
        "url = \"https://example.com\"\n",
        "\n",
        "# Fetch the HTML content\n",
        "response = requests.get(url)\n",
        "soup = BeautifulSoup(response.text, \"html.parser\")\n",
        "\n",
        "# Find and download an image\n",
        "image_tag = soup.find(\"img\")\n",
        "if image_tag and 'src' in image_tag.attrs:\n",
        "    image_url = image_tag['src']\n",
        "    img_data = requests.get(image_url).content\n",
        "    with open(\"downloaded_image.jpg\", \"wb\") as handler:\n",
        "        handler.write(img_data)\n",
        "    print(\"Image downloaded successfully!\")\n",
        "\n",
        "# Display page title\n",
        "print(\"Page Title:\", soup.title.string)\n"
      ]
    }
  ]
}